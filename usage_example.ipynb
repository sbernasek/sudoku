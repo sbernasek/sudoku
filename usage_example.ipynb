{
 "cells": [
  {
   "cell_type": "code",
   "execution_count": 1,
   "metadata": {},
   "outputs": [],
   "source": [
    "from sudoku import Sudoku\n",
    "%reload_ext autoreload\n",
    "%autoreload 2"
   ]
  },
  {
   "cell_type": "code",
   "execution_count": 2,
   "metadata": {},
   "outputs": [],
   "source": [
    "grid = [\n",
    "    [0, 6, 8, 0, 0, 4, 0, 0, 0],\n",
    "    [0, 0, 0, 5, 1, 9, 8, 6, 7],\n",
    "    [1, 0, 0, 0, 8, 6, 0, 0 ,0],\n",
    "    [0, 0, 0, 0, 9, 0, 6, 0, 2],\n",
    "    [0, 0, 0, 0, 3, 1, 7, 0, 0],\n",
    "    [0, 0, 9, 4, 0, 0, 3, 0, 0],\n",
    "    [4, 0, 3, 0, 0, 0, 0, 0, 0],\n",
    "    [8, 5, 1, 9, 4, 3, 2, 7, 6],\n",
    "    [0, 0, 0, 1, 0, 8, 4, 3, 5]]"
   ]
  },
  {
   "cell_type": "code",
   "execution_count": 3,
   "metadata": {},
   "outputs": [],
   "source": [
    "sudoku = Sudoku(grid)\n",
    "solution = sudoku.solve()"
   ]
  },
  {
   "cell_type": "code",
   "execution_count": 4,
   "metadata": {},
   "outputs": [
    {
     "data": {
      "text/plain": [
       "True"
      ]
     },
     "execution_count": 4,
     "metadata": {},
     "output_type": "execute_result"
    }
   ],
   "source": [
    "sudoku.success"
   ]
  }
 ],
 "metadata": {
  "kernelspec": {
   "display_name": "playground",
   "language": "python",
   "name": "playground"
  },
  "language_info": {
   "codemirror_mode": {
    "name": "ipython",
    "version": 3
   },
   "file_extension": ".py",
   "mimetype": "text/x-python",
   "name": "python",
   "nbconvert_exporter": "python",
   "pygments_lexer": "ipython3",
   "version": "3.6.4"
  }
 },
 "nbformat": 4,
 "nbformat_minor": 2
}
