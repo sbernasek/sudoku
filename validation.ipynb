{
 "cells": [
  {
   "cell_type": "code",
   "execution_count": 25,
   "metadata": {},
   "outputs": [],
   "source": [
    "from sudoku import Sudoku\n",
    "import numpy as np\n",
    "import pandas as pd\n",
    "from time import time\n",
    "%reload_ext autoreload\n",
    "%autoreload 2"
   ]
  },
  {
   "cell_type": "code",
   "execution_count": 24,
   "metadata": {},
   "outputs": [],
   "source": [
    "class Data:\n",
    "    \"\"\" Interface to library of Sudoku puzzles. \"\"\"\n",
    "\n",
    "    def __init__(self, csv='./sudoku.csv'):\n",
    "        self.data = pd.read_csv(csv)\n",
    "        self.idx = 0\n",
    "        \n",
    "    def __getitem__(self, idx):\n",
    "        puzzle, solution = puzzles.iloc[idx].values\n",
    "        puzzle = np.asarray([[int(s) for s in puzzle]]).reshape((9, 9))\n",
    "        solution = np.asarray([[int(s) for s in solution]]).reshape((9, 9))\n",
    "        return puzzle, solution\n",
    "    \n",
    "    def __iter__(self):\n",
    "        self.idx = 0\n",
    "        return self\n",
    "\n",
    "    def __next__(self):\n",
    "        if self.idx <= len(self.data):\n",
    "            self.idx += 1\n",
    "            return self[self.idx]\n",
    "        else:\n",
    "            raise StopIteration\n",
    "            \n",
    "def solve(data):\n",
    "        \n",
    "    puzzle = np.asarray([[int(s) for s in data['quizzes']]]).reshape((9, 9))\n",
    "    key = np.asarray([[int(s) for s in data['solutions']]]).reshape((9, 9))\n",
    "    \n",
    "    sudoku = Sudoku(puzzle)\n",
    "    solution = sudoku.solve()\n",
    "    \n",
    "    is_correct = np.allclose(solution, key)\n",
    "    \n",
    "    return is_correct, sudoku.runtime\n",
    "\n",
    "# load validation puzzles\n",
    "data = Data()"
   ]
  },
  {
   "cell_type": "code",
   "execution_count": 26,
   "metadata": {},
   "outputs": [
    {
     "name": "stdout",
     "output_type": "stream",
     "text": [
      "0.6135647296905518\n"
     ]
    }
   ],
   "source": [
    "N = 100 # number of validation puzzles\n",
    "\n",
    "data_slice = data.data.iloc[:N]\n",
    "\n",
    "start = time()\n",
    "data_slice[['correct', 'runtime']] = data_slice.apply(solve, axis=1, result_type='broadcast')\n",
    "stop = time()\n",
    "print(stop - start)"
   ]
  }
 ],
 "metadata": {
  "kernelspec": {
   "display_name": "playground",
   "language": "python",
   "name": "playground"
  },
  "language_info": {
   "codemirror_mode": {
    "name": "ipython",
    "version": 3
   },
   "file_extension": ".py",
   "mimetype": "text/x-python",
   "name": "python",
   "nbconvert_exporter": "python",
   "pygments_lexer": "ipython3",
   "version": "3.6.4"
  }
 },
 "nbformat": 4,
 "nbformat_minor": 2
}
