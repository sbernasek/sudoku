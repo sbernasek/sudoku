{
 "cells": [
  {
   "cell_type": "code",
   "execution_count": 1,
   "metadata": {},
   "outputs": [],
   "source": [
    "from sudoku import Sudoku\n",
    "%reload_ext autoreload\n",
    "%autoreload 2"
   ]
  },
  {
   "cell_type": "code",
   "execution_count": 2,
   "metadata": {},
   "outputs": [],
   "source": [
    "grid = [\n",
    "    [0, 6, 8, 0, 0, 4, 0, 0, 0],\n",
    "    [0, 0, 0, 5, 1, 9, 8, 6, 7],\n",
    "    [1, 0, 0, 0, 8, 6, 0, 0 ,0],\n",
    "    [0, 0, 0, 0, 9, 0, 6, 0, 2],\n",
    "    [0, 0, 0, 0, 3, 1, 7, 0, 0],\n",
    "    [0, 0, 9, 4, 0, 0, 3, 0, 0],\n",
    "    [4, 0, 3, 0, 0, 0, 0, 0, 0],\n",
    "    [8, 5, 1, 9, 4, 3, 2, 7, 6],\n",
    "    [0, 0, 0, 1, 0, 8, 4, 3, 5]]"
   ]
  },
  {
   "cell_type": "code",
   "execution_count": 9,
   "metadata": {},
   "outputs": [],
   "source": [
    "import numpy as np\n",
    "grid = np.zeros((9,9,9), dtype=int)"
   ]
  },
  {
   "cell_type": "code",
   "execution_count": null,
   "metadata": {},
   "outputs": [],
   "source": []
  },
  {
   "cell_type": "code",
   "execution_count": 10,
   "metadata": {},
   "outputs": [
    {
     "ename": "TypeError",
     "evalue": "_update_options() takes 3 positional arguments but 4 were given",
     "output_type": "error",
     "traceback": [
      "\u001b[0;31m---------------------------------------------------------------------------\u001b[0m",
      "\u001b[0;31mTypeError\u001b[0m                                 Traceback (most recent call last)",
      "\u001b[0;32m<ipython-input-10-2893a230fcdc>\u001b[0m in \u001b[0;36m<module>\u001b[0;34m\u001b[0m\n\u001b[0;32m----> 1\u001b[0;31m \u001b[0msudoku\u001b[0m \u001b[0;34m=\u001b[0m \u001b[0mSudoku\u001b[0m\u001b[0;34m(\u001b[0m\u001b[0mgrid\u001b[0m\u001b[0;34m)\u001b[0m\u001b[0;34m\u001b[0m\u001b[0m\n\u001b[0m\u001b[1;32m      2\u001b[0m \u001b[0;31m#solution = sudoku.solve()\u001b[0m\u001b[0;34m\u001b[0m\u001b[0;34m\u001b[0m\u001b[0m\n",
      "\u001b[0;32m~/Documents/personal/projects/sudoku/sudoku.py\u001b[0m in \u001b[0;36m__init__\u001b[0;34m(self, grid, depth)\u001b[0m\n\u001b[1;32m     45\u001b[0m         \u001b[0mself\u001b[0m\u001b[0;34m.\u001b[0m\u001b[0ms\u001b[0m \u001b[0;34m=\u001b[0m \u001b[0mint\u001b[0m\u001b[0;34m(\u001b[0m\u001b[0mnp\u001b[0m\u001b[0;34m.\u001b[0m\u001b[0msqrt\u001b[0m\u001b[0;34m(\u001b[0m\u001b[0mself\u001b[0m\u001b[0;34m.\u001b[0m\u001b[0mw\u001b[0m\u001b[0;34m)\u001b[0m\u001b[0;34m)\u001b[0m\u001b[0;34m\u001b[0m\u001b[0m\n\u001b[1;32m     46\u001b[0m         \u001b[0mself\u001b[0m\u001b[0;34m.\u001b[0m\u001b[0moptions\u001b[0m \u001b[0;34m=\u001b[0m \u001b[0;34m{\u001b[0m\u001b[0;34m}\u001b[0m\u001b[0;34m\u001b[0m\u001b[0m\n\u001b[0;32m---> 47\u001b[0;31m         \u001b[0mself\u001b[0m\u001b[0;34m.\u001b[0m\u001b[0mupdate_options\u001b[0m\u001b[0;34m(\u001b[0m\u001b[0;34m)\u001b[0m\u001b[0;34m\u001b[0m\u001b[0m\n\u001b[0m\u001b[1;32m     48\u001b[0m         \u001b[0mself\u001b[0m\u001b[0;34m.\u001b[0m\u001b[0mruntime\u001b[0m \u001b[0;34m=\u001b[0m \u001b[0;32mNone\u001b[0m\u001b[0;34m\u001b[0m\u001b[0m\n\u001b[1;32m     49\u001b[0m \u001b[0;34m\u001b[0m\u001b[0m\n",
      "\u001b[0;32m~/Documents/personal/projects/sudoku/sudoku.py\u001b[0m in \u001b[0;36mupdate_options\u001b[0;34m(self)\u001b[0m\n\u001b[1;32m    137\u001b[0m         \u001b[0;34m\"\"\" Mark all available values for each position. \"\"\"\u001b[0m\u001b[0;34m\u001b[0m\u001b[0m\n\u001b[1;32m    138\u001b[0m         \u001b[0;32mfor\u001b[0m \u001b[0midx\u001b[0m \u001b[0;32min\u001b[0m \u001b[0mself\u001b[0m\u001b[0;34m.\u001b[0m\u001b[0midxs\u001b[0m\u001b[0;34m:\u001b[0m\u001b[0;34m\u001b[0m\u001b[0m\n\u001b[0;32m--> 139\u001b[0;31m             \u001b[0mself\u001b[0m\u001b[0;34m.\u001b[0m\u001b[0m_update_options\u001b[0m\u001b[0;34m(\u001b[0m\u001b[0;34m*\u001b[0m\u001b[0midx\u001b[0m\u001b[0;34m)\u001b[0m\u001b[0;34m\u001b[0m\u001b[0m\n\u001b[0m\u001b[1;32m    140\u001b[0m \u001b[0;34m\u001b[0m\u001b[0m\n\u001b[1;32m    141\u001b[0m     \u001b[0;32mdef\u001b[0m \u001b[0mdeduction\u001b[0m\u001b[0;34m(\u001b[0m\u001b[0mself\u001b[0m\u001b[0;34m)\u001b[0m\u001b[0;34m:\u001b[0m\u001b[0;34m\u001b[0m\u001b[0m\n",
      "\u001b[0;31mTypeError\u001b[0m: _update_options() takes 3 positional arguments but 4 were given"
     ]
    }
   ],
   "source": [
    "sudoku = Sudoku(grid)\n",
    "#solution = sudoku.solve()"
   ]
  },
  {
   "cell_type": "code",
   "execution_count": 5,
   "metadata": {},
   "outputs": [
    {
     "data": {
      "text/plain": [
       "True"
      ]
     },
     "execution_count": 5,
     "metadata": {},
     "output_type": "execute_result"
    }
   ],
   "source": [
    "sudoku.success"
   ]
  },
  {
   "cell_type": "code",
   "execution_count": null,
   "metadata": {},
   "outputs": [],
   "source": []
  },
  {
   "cell_type": "code",
   "execution_count": 3,
   "metadata": {},
   "outputs": [],
   "source": []
  },
  {
   "cell_type": "code",
   "execution_count": 4,
   "metadata": {},
   "outputs": [],
   "source": [
    "class Data:\n",
    "\n",
    "    def __init__(self, csv='./sudoku.csv'):\n",
    "        self.data = pd.read_csv(csv)\n",
    "        self.idx = 0\n",
    "        \n",
    "    def __getitem__(self, idx):\n",
    "        puzzle, solution = puzzles.iloc[idx].values\n",
    "        puzzle = np.asarray([[int(s) for s in puzzle]]).reshape((9, 9))\n",
    "        solution = np.asarray([[int(s) for s in solution]]).reshape((9, 9))\n",
    "        return puzzle, solution\n",
    "    \n",
    "    def __iter__(self):\n",
    "        self.idx = 0\n",
    "        return self\n",
    "\n",
    "    def __next__(self):\n",
    "        if self.idx <= len(self.data):\n",
    "            self.idx += 1\n",
    "            return self[self.idx]\n",
    "        else:\n",
    "            raise StopIteration\n",
    "\n",
    "data = Data()"
   ]
  },
  {
   "cell_type": "code",
   "execution_count": 2,
   "metadata": {},
   "outputs": [],
   "source": [
    "grid = [\n",
    "    [0, 6, 8, 0, 0, 4, 0, 0, 0],\n",
    "    [0, 0, 0, 5, 1, 9, 8, 6, 7],\n",
    "    [1, 0, 0, 0, 8, 6, 0, 0 ,0],\n",
    "    [0, 0, 0, 0, 9, 0, 6, 0, 2],\n",
    "    [0, 0, 0, 0, 3, 1, 7, 0, 0],\n",
    "    [0, 0, 9, 4, 0, 0, 3, 0, 0],\n",
    "    [4, 0, 3, 0, 0, 0, 0, 0, 0],\n",
    "    [8, 5, 1, 9, 4, 3, 2, 7, 6],\n",
    "    [0, 0, 0, 1, 0, 8, 4, 3, 5]]"
   ]
  },
  {
   "cell_type": "code",
   "execution_count": 5,
   "metadata": {},
   "outputs": [
    {
     "name": "stdout",
     "output_type": "stream",
     "text": [
      "Solution found in 0.08 sec \n",
      "\n"
     ]
    },
    {
     "data": {
      "text/plain": [
       "array([[5, 6, 8, 7, 2, 4, 1, 9, 3],\n",
       "       [3, 4, 2, 5, 1, 9, 8, 6, 7],\n",
       "       [1, 9, 7, 3, 8, 6, 5, 2, 4],\n",
       "       [7, 3, 4, 8, 9, 5, 6, 1, 2],\n",
       "       [6, 8, 5, 2, 3, 1, 7, 4, 9],\n",
       "       [2, 1, 9, 4, 6, 7, 3, 5, 8],\n",
       "       [4, 7, 3, 6, 5, 2, 9, 8, 1],\n",
       "       [8, 5, 1, 9, 4, 3, 2, 7, 6],\n",
       "       [9, 2, 6, 1, 7, 8, 4, 3, 5]])"
      ]
     },
     "execution_count": 5,
     "metadata": {},
     "output_type": "execute_result"
    }
   ],
   "source": [
    "solver = Solver(grid)\n",
    "solver.solve()"
   ]
  },
  {
   "cell_type": "code",
   "execution_count": 74,
   "metadata": {},
   "outputs": [],
   "source": [
    "def solve(data):\n",
    "        \n",
    "    puzzle = np.asarray([[int(s) for s in data['quizzes']]]).reshape((9, 9))\n",
    "    key = np.asarray([[int(s) for s in data['solutions']]]).reshape((9, 9))\n",
    "    \n",
    "    solver = Solver(puzzle)\n",
    "    solution = solver.solve()\n",
    "    \n",
    "    is_correct = np.allclose(solution, key)\n",
    "    \n",
    "    return is_correct, solver.runtime"
   ]
  },
  {
   "cell_type": "code",
   "execution_count": 27,
   "metadata": {},
   "outputs": [],
   "source": [
    "N = 100000\n",
    "df = data.data.iloc[:N]"
   ]
  },
  {
   "cell_type": "code",
   "execution_count": 28,
   "metadata": {},
   "outputs": [
    {
     "name": "stdout",
     "output_type": "stream",
     "text": [
      "710.1516799926758\n"
     ]
    }
   ],
   "source": [
    "from time import time\n",
    "start = time()\n",
    "df[['correct', 'runtime']] = df.apply(solve, axis=1, broadcast=True)\n",
    "stop = time()\n",
    "print(stop - start)"
   ]
  }
 ],
 "metadata": {
  "kernelspec": {
   "display_name": "playground",
   "language": "python",
   "name": "playground"
  },
  "language_info": {
   "codemirror_mode": {
    "name": "ipython",
    "version": 3
   },
   "file_extension": ".py",
   "mimetype": "text/x-python",
   "name": "python",
   "nbconvert_exporter": "python",
   "pygments_lexer": "ipython3",
   "version": "3.6.4"
  }
 },
 "nbformat": 4,
 "nbformat_minor": 2
}
