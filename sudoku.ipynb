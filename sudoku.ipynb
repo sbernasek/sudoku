{
 "cells": [
  {
   "cell_type": "code",
   "execution_count": 1,
   "metadata": {},
   "outputs": [],
   "source": [
    "from sudoku import Solver\n",
    "%reload_ext autoreload\n",
    "%autoreload 2"
   ]
  },
  {
   "cell_type": "code",
   "execution_count": 2,
   "metadata": {},
   "outputs": [],
   "source": [
    "import pandas as pd"
   ]
  },
  {
   "cell_type": "code",
   "execution_count": 3,
   "metadata": {},
   "outputs": [],
   "source": [
    "import numpy as np"
   ]
  },
  {
   "cell_type": "code",
   "execution_count": 4,
   "metadata": {},
   "outputs": [],
   "source": [
    "class Data:\n",
    "\n",
    "    def __init__(self, csv='./sudoku.csv'):\n",
    "        self.data = pd.read_csv(csv)\n",
    "        self.idx = 0\n",
    "        \n",
    "    def __getitem__(self, idx):\n",
    "        puzzle, solution = puzzles.iloc[idx].values\n",
    "        puzzle = np.asarray([[int(s) for s in puzzle]]).reshape((9, 9))\n",
    "        solution = np.asarray([[int(s) for s in solution]]).reshape((9, 9))\n",
    "        return puzzle, solution\n",
    "    \n",
    "    def __iter__(self):\n",
    "        self.idx = 0\n",
    "        return self\n",
    "\n",
    "    def __next__(self):\n",
    "        if self.idx <= len(self.data):\n",
    "            self.idx += 1\n",
    "            return self[self.idx]\n",
    "        else:\n",
    "            raise StopIteration\n",
    "\n",
    "data = Data()"
   ]
  },
  {
   "cell_type": "code",
   "execution_count": 2,
   "metadata": {},
   "outputs": [],
   "source": [
    "grid = [\n",
    "    [0, 6, 8, 0, 0, 4, 0, 0, 0],\n",
    "    [0, 0, 0, 5, 1, 9, 8, 6, 7],\n",
    "    [1, 0, 0, 0, 8, 6, 0, 0 ,0],\n",
    "    [0, 0, 0, 0, 9, 0, 6, 0, 2],\n",
    "    [0, 0, 0, 0, 3, 1, 7, 0, 0],\n",
    "    [0, 0, 9, 4, 0, 0, 3, 0, 0],\n",
    "    [4, 0, 3, 0, 0, 0, 0, 0, 0],\n",
    "    [8, 5, 1, 9, 4, 3, 2, 7, 6],\n",
    "    [0, 0, 0, 1, 0, 8, 4, 3, 5]]"
   ]
  },
  {
   "cell_type": "code",
   "execution_count": 5,
   "metadata": {},
   "outputs": [
    {
     "name": "stdout",
     "output_type": "stream",
     "text": [
      "Solution found in 0.08 sec \n",
      "\n"
     ]
    },
    {
     "data": {
      "text/plain": [
       "array([[5, 6, 8, 7, 2, 4, 1, 9, 3],\n",
       "       [3, 4, 2, 5, 1, 9, 8, 6, 7],\n",
       "       [1, 9, 7, 3, 8, 6, 5, 2, 4],\n",
       "       [7, 3, 4, 8, 9, 5, 6, 1, 2],\n",
       "       [6, 8, 5, 2, 3, 1, 7, 4, 9],\n",
       "       [2, 1, 9, 4, 6, 7, 3, 5, 8],\n",
       "       [4, 7, 3, 6, 5, 2, 9, 8, 1],\n",
       "       [8, 5, 1, 9, 4, 3, 2, 7, 6],\n",
       "       [9, 2, 6, 1, 7, 8, 4, 3, 5]])"
      ]
     },
     "execution_count": 5,
     "metadata": {},
     "output_type": "execute_result"
    }
   ],
   "source": [
    "solver = Solver(grid)\n",
    "solver.solve()"
   ]
  },
  {
   "cell_type": "code",
   "execution_count": null,
   "metadata": {},
   "outputs": [],
   "source": []
  },
  {
   "cell_type": "code",
   "execution_count": 54,
   "metadata": {},
   "outputs": [],
   "source": [
    "p, s0 = data[1]"
   ]
  },
  {
   "cell_type": "code",
   "execution_count": 55,
   "metadata": {},
   "outputs": [
    {
     "name": "stdout",
     "output_type": "stream",
     "text": [
      "Solution found in 0.00 sec \n",
      "\n"
     ]
    }
   ],
   "source": [
    "solver = Solver(p)\n",
    "s = solver.solve()\n",
    "\n",
    "np.allclose(s, s0)"
   ]
  },
  {
   "cell_type": "code",
   "execution_count": 8,
   "metadata": {},
   "outputs": [],
   "source": [
    "def solve(data):\n",
    "        \n",
    "    puzzle = np.asarray([[int(s) for s in data['quizzes']]]).reshape((9, 9))\n",
    "    key = np.asarray([[int(s) for s in data['solutions']]]).reshape((9, 9))\n",
    "    \n",
    "    solver = Solver(puzzle)\n",
    "    solution = solver.solve()\n",
    "    \n",
    "    is_correct = np.allclose(solution, key)\n",
    "    \n",
    "    return is_correct, solver.runtime"
   ]
  },
  {
   "cell_type": "code",
   "execution_count": 27,
   "metadata": {},
   "outputs": [],
   "source": [
    "N = 100000\n",
    "df = data.data.iloc[:N]"
   ]
  },
  {
   "cell_type": "code",
   "execution_count": null,
   "metadata": {},
   "outputs": [],
   "source": [
    "from time import time\n",
    "start = time()\n",
    "df[['correct', 'runtime']] = df.apply(solve, axis=1, broadcast=True)\n",
    "stop = time()\n",
    "print(stop - start)"
   ]
  },
  {
   "cell_type": "code",
   "execution_count": 22,
   "metadata": {},
   "outputs": [
    {
     "data": {
      "text/plain": [
       "1000"
      ]
     },
     "execution_count": 22,
     "metadata": {},
     "output_type": "execute_result"
    }
   ],
   "source": [
    "df.correct.sum() / N"
   ]
  },
  {
   "cell_type": "code",
   "execution_count": null,
   "metadata": {},
   "outputs": [],
   "source": [
    "N = 100000"
   ]
  },
  {
   "cell_type": "code",
   "execution_count": null,
   "metadata": {},
   "outputs": [],
   "source": []
  }
 ],
 "metadata": {
  "kernelspec": {
   "display_name": "playground",
   "language": "python",
   "name": "playground"
  },
  "language_info": {
   "codemirror_mode": {
    "name": "ipython",
    "version": 3
   },
   "file_extension": ".py",
   "mimetype": "text/x-python",
   "name": "python",
   "nbconvert_exporter": "python",
   "pygments_lexer": "ipython3",
   "version": "3.6.4"
  }
 },
 "nbformat": 4,
 "nbformat_minor": 2
}
